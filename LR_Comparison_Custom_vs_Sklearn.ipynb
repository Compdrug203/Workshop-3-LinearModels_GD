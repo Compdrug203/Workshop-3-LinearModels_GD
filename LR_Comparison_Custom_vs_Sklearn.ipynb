{
 "cells": [
  {
   "cell_type": "markdown",
   "id": "e3831764",
   "metadata": {},
   "source": [
    "\n",
    "# Linear Regression: Custom vs Scikit-learn Comparison\n",
    "\n",
    "In this notebook, we will compare the performance of a custom-built Linear Regression model from scratch \n",
    "against the standard `LinearRegression` model from the `sklearn` library. We will use a synthetic dataset \n",
    "generated with `make_regression` from `sklearn.datasets` and evaluate the models based on their predictions \n",
    "and `R-squared` scores.\n"
   ]
  },
  {
   "cell_type": "code",
   "execution_count": null,
   "id": "6a5c90fc",
   "metadata": {},
   "outputs": [],
   "source": [
    "\n",
    "# Import necessary libraries\n",
    "import numpy as np\n",
    "import matplotlib.pyplot as plt\n",
    "from sklearn.datasets import make_regression\n",
    "from sklearn.linear_model import LinearRegression as SklearnLinearRegression\n",
    "from sklearn.metrics import r2_score\n",
    "from linear_regression import LinearRegression  # This is the custom linear regression class\n"
   ]
  },
  {
   "cell_type": "code",
   "execution_count": null,
   "id": "4ddb6e34",
   "metadata": {},
   "outputs": [],
   "source": [
    "\n",
    "# Generate a synthetic dataset for regression\n",
    "X, y = make_regression(n_samples=100, n_features=1, noise=10, random_state=42)\n",
    "\n",
    "# Reshape y to be a 1D array\n",
    "y = y.reshape(-1)\n",
    "\n",
    "# Split the dataset into training and testing sets\n",
    "split_ratio = 0.8\n",
    "split_index = int(len(X) * split_ratio)\n",
    "X_train, X_test, y_train, y_test = X[:split_index], X[split_index:], y[:split_index], y[split_index:]\n"
   ]
  },
  {
   "cell_type": "code",
   "execution_count": null,
   "id": "44d0da51",
   "metadata": {},
   "outputs": [],
   "source": [
    "\n",
    "# Custom Linear Regression Model (from scratch)\n",
    "custom_lr = LinearRegression()\n",
    "custom_lr.fit(X_train, y_train)\n",
    "y_pred_custom = custom_lr.predict(X_test)\n",
    "r2_custom = custom_lr.Rsquared(X_test, y_test)\n"
   ]
  },
  {
   "cell_type": "code",
   "execution_count": null,
   "id": "c228a364",
   "metadata": {},
   "outputs": [],
   "source": [
    "\n",
    "# Scikit-learn Linear Regression Model\n",
    "sklearn_lr = SklearnLinearRegression()\n",
    "sklearn_lr.fit(X_train, y_train)\n",
    "y_pred_sklearn = sklearn_lr.predict(X_test)\n",
    "r2_sklearn = r2_score(y_test, y_pred_sklearn)\n"
   ]
  },
  {
   "cell_type": "code",
   "execution_count": null,
   "id": "15a4d1d7",
   "metadata": {},
   "outputs": [],
   "source": [
    "\n",
    "# Plotting the predictions\n",
    "plt.figure(figsize=(10, 5))\n",
    "\n",
    "# Plot data points\n",
    "plt.scatter(X_test, y_test, color='blue', label=\"True values\")\n",
    "\n",
    "# Plot custom model predictions\n",
    "plt.plot(X_test, y_pred_custom, color='green', label=\"Custom Model Predictions\")\n",
    "\n",
    "# Plot sklearn model predictions\n",
    "plt.plot(X_test, y_pred_sklearn, color='red', linestyle='--', label=\"Sklearn Model Predictions\")\n",
    "\n",
    "plt.title(\"Comparison of Custom Linear Regression vs. Scikit-learn Linear Regression\")\n",
    "plt.xlabel(\"X\")\n",
    "plt.ylabel(\"y\")\n",
    "plt.legend()\n",
    "plt.show()\n",
    "\n",
    "# Print R-squared values\n",
    "print(f\"Custom Linear Regression R-squared: {r2_custom:.4f}\")\n",
    "print(f\"Sklearn Linear Regression R-squared: {r2_sklearn:.4f}\")\n"
   ]
  }
 ],
 "metadata": {},
 "nbformat": 4,
 "nbformat_minor": 5
}
